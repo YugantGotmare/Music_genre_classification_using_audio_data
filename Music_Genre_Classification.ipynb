{
  "nbformat": 4,
  "nbformat_minor": 0,
  "metadata": {
    "colab": {
      "provenance": [],
      "gpuType": "T4"
    },
    "kernelspec": {
      "name": "python3",
      "display_name": "Python 3"
    },
    "language_info": {
      "name": "python"
    },
    "accelerator": "GPU"
  },
  "cells": [
    {
      "cell_type": "code",
      "execution_count": 1,
      "metadata": {
        "id": "sYjWUFvgTlHK"
      },
      "outputs": [],
      "source": [
        "!mkdir -p ~/.kaggle\n",
        "!cp kaggle.json ~/.kaggle/"
      ]
    },
    {
      "cell_type": "code",
      "source": [
        "!kaggle datasets download -d andradaolteanu/gtzan-dataset-music-genre-classification"
      ],
      "metadata": {
        "colab": {
          "base_uri": "https://localhost:8080/"
        },
        "id": "KQ6bNtN3T8P_",
        "outputId": "035e6ad1-3f68-47d9-943f-4aefaea35afc"
      },
      "execution_count": 2,
      "outputs": [
        {
          "output_type": "stream",
          "name": "stdout",
          "text": [
            "Warning: Your Kaggle API key is readable by other users on this system! To fix this, you can run 'chmod 600 /root/.kaggle/kaggle.json'\n",
            "Downloading gtzan-dataset-music-genre-classification.zip to /content\n",
            " 98% 1.18G/1.21G [00:07<00:00, 251MB/s]\n",
            "100% 1.21G/1.21G [00:07<00:00, 168MB/s]\n"
          ]
        }
      ]
    },
    {
      "cell_type": "code",
      "source": [
        "import zipfile\n",
        "zip_ref = zipfile.ZipFile('/content/gtzan-dataset-music-genre-classification.zip')\n",
        "zip_ref.extractall('/content/Data')\n",
        "zip_ref.close()"
      ],
      "metadata": {
        "id": "ExliGD6QUATc"
      },
      "execution_count": 3,
      "outputs": []
    },
    {
      "cell_type": "code",
      "source": [
        "import os\n",
        "Root = \"/content/Data/Data\"\n",
        "os.chdir(Root)"
      ],
      "metadata": {
        "id": "CXbF17sHUMZd"
      },
      "execution_count": 1,
      "outputs": []
    },
    {
      "cell_type": "code",
      "source": [
        "import pandas as pd\n",
        "import numpy as np\n",
        "import os\n",
        "import IPython.display as ipd\n",
        "import librosa\n",
        "import librosa.display\n",
        "import matplotlib.pyplot as plt\n",
        "%matplotlib inline"
      ],
      "metadata": {
        "id": "T5LcZaU7Un-7"
      },
      "execution_count": 2,
      "outputs": []
    },
    {
      "cell_type": "code",
      "source": [
        "audio_dataset_path='/content/Data/Data/genres_original'\n",
        "metadata=pd.read_csv('/content/Data/Data/features_30_sec.csv')\n",
        "metadata.head()"
      ],
      "metadata": {
        "colab": {
          "base_uri": "https://localhost:8080/",
          "height": 255
        },
        "id": "aIc6V-hCU9lR",
        "outputId": "9236ccd0-a611-4c38-8c27-a33d7acaf725"
      },
      "execution_count": 3,
      "outputs": [
        {
          "output_type": "execute_result",
          "data": {
            "text/plain": [
              "          filename  length  chroma_stft_mean  chroma_stft_var  rms_mean  \\\n",
              "0  blues.00000.wav  661794          0.350088         0.088757  0.130228   \n",
              "1  blues.00001.wav  661794          0.340914         0.094980  0.095948   \n",
              "2  blues.00002.wav  661794          0.363637         0.085275  0.175570   \n",
              "3  blues.00003.wav  661794          0.404785         0.093999  0.141093   \n",
              "4  blues.00004.wav  661794          0.308526         0.087841  0.091529   \n",
              "\n",
              "    rms_var  spectral_centroid_mean  spectral_centroid_var  \\\n",
              "0  0.002827             1784.165850          129774.064525   \n",
              "1  0.002373             1530.176679          375850.073649   \n",
              "2  0.002746             1552.811865          156467.643368   \n",
              "3  0.006346             1070.106615          184355.942417   \n",
              "4  0.002303             1835.004266          343399.939274   \n",
              "\n",
              "   spectral_bandwidth_mean  spectral_bandwidth_var  ...  mfcc16_var  \\\n",
              "0              2002.449060            85882.761315  ...   52.420910   \n",
              "1              2039.036516           213843.755497  ...   55.356403   \n",
              "2              1747.702312            76254.192257  ...   40.598766   \n",
              "3              1596.412872           166441.494769  ...   44.427753   \n",
              "4              1748.172116            88445.209036  ...   86.099236   \n",
              "\n",
              "   mfcc17_mean  mfcc17_var  mfcc18_mean  mfcc18_var  mfcc19_mean  mfcc19_var  \\\n",
              "0    -1.690215   36.524071    -0.408979   41.597103    -2.303523   55.062923   \n",
              "1    -0.731125   60.314529     0.295073   48.120598    -0.283518   51.106190   \n",
              "2    -7.729093   47.639427    -1.816407   52.382141    -3.439720   46.639660   \n",
              "3    -3.319597   50.206673     0.636965   37.319130    -0.619121   37.259739   \n",
              "4    -5.454034   75.269707    -0.916874   53.613918    -4.404827   62.910812   \n",
              "\n",
              "   mfcc20_mean  mfcc20_var  label  \n",
              "0     1.221291   46.936035  blues  \n",
              "1     0.531217   45.786282  blues  \n",
              "2    -2.231258   30.573025  blues  \n",
              "3    -3.407448   31.949339  blues  \n",
              "4   -11.703234   55.195160  blues  \n",
              "\n",
              "[5 rows x 60 columns]"
            ],
            "text/html": [
              "\n",
              "  <div id=\"df-f0e27c15-d86f-4d45-accd-be7fe2dc31fc\" class=\"colab-df-container\">\n",
              "    <div>\n",
              "<style scoped>\n",
              "    .dataframe tbody tr th:only-of-type {\n",
              "        vertical-align: middle;\n",
              "    }\n",
              "\n",
              "    .dataframe tbody tr th {\n",
              "        vertical-align: top;\n",
              "    }\n",
              "\n",
              "    .dataframe thead th {\n",
              "        text-align: right;\n",
              "    }\n",
              "</style>\n",
              "<table border=\"1\" class=\"dataframe\">\n",
              "  <thead>\n",
              "    <tr style=\"text-align: right;\">\n",
              "      <th></th>\n",
              "      <th>filename</th>\n",
              "      <th>length</th>\n",
              "      <th>chroma_stft_mean</th>\n",
              "      <th>chroma_stft_var</th>\n",
              "      <th>rms_mean</th>\n",
              "      <th>rms_var</th>\n",
              "      <th>spectral_centroid_mean</th>\n",
              "      <th>spectral_centroid_var</th>\n",
              "      <th>spectral_bandwidth_mean</th>\n",
              "      <th>spectral_bandwidth_var</th>\n",
              "      <th>...</th>\n",
              "      <th>mfcc16_var</th>\n",
              "      <th>mfcc17_mean</th>\n",
              "      <th>mfcc17_var</th>\n",
              "      <th>mfcc18_mean</th>\n",
              "      <th>mfcc18_var</th>\n",
              "      <th>mfcc19_mean</th>\n",
              "      <th>mfcc19_var</th>\n",
              "      <th>mfcc20_mean</th>\n",
              "      <th>mfcc20_var</th>\n",
              "      <th>label</th>\n",
              "    </tr>\n",
              "  </thead>\n",
              "  <tbody>\n",
              "    <tr>\n",
              "      <th>0</th>\n",
              "      <td>blues.00000.wav</td>\n",
              "      <td>661794</td>\n",
              "      <td>0.350088</td>\n",
              "      <td>0.088757</td>\n",
              "      <td>0.130228</td>\n",
              "      <td>0.002827</td>\n",
              "      <td>1784.165850</td>\n",
              "      <td>129774.064525</td>\n",
              "      <td>2002.449060</td>\n",
              "      <td>85882.761315</td>\n",
              "      <td>...</td>\n",
              "      <td>52.420910</td>\n",
              "      <td>-1.690215</td>\n",
              "      <td>36.524071</td>\n",
              "      <td>-0.408979</td>\n",
              "      <td>41.597103</td>\n",
              "      <td>-2.303523</td>\n",
              "      <td>55.062923</td>\n",
              "      <td>1.221291</td>\n",
              "      <td>46.936035</td>\n",
              "      <td>blues</td>\n",
              "    </tr>\n",
              "    <tr>\n",
              "      <th>1</th>\n",
              "      <td>blues.00001.wav</td>\n",
              "      <td>661794</td>\n",
              "      <td>0.340914</td>\n",
              "      <td>0.094980</td>\n",
              "      <td>0.095948</td>\n",
              "      <td>0.002373</td>\n",
              "      <td>1530.176679</td>\n",
              "      <td>375850.073649</td>\n",
              "      <td>2039.036516</td>\n",
              "      <td>213843.755497</td>\n",
              "      <td>...</td>\n",
              "      <td>55.356403</td>\n",
              "      <td>-0.731125</td>\n",
              "      <td>60.314529</td>\n",
              "      <td>0.295073</td>\n",
              "      <td>48.120598</td>\n",
              "      <td>-0.283518</td>\n",
              "      <td>51.106190</td>\n",
              "      <td>0.531217</td>\n",
              "      <td>45.786282</td>\n",
              "      <td>blues</td>\n",
              "    </tr>\n",
              "    <tr>\n",
              "      <th>2</th>\n",
              "      <td>blues.00002.wav</td>\n",
              "      <td>661794</td>\n",
              "      <td>0.363637</td>\n",
              "      <td>0.085275</td>\n",
              "      <td>0.175570</td>\n",
              "      <td>0.002746</td>\n",
              "      <td>1552.811865</td>\n",
              "      <td>156467.643368</td>\n",
              "      <td>1747.702312</td>\n",
              "      <td>76254.192257</td>\n",
              "      <td>...</td>\n",
              "      <td>40.598766</td>\n",
              "      <td>-7.729093</td>\n",
              "      <td>47.639427</td>\n",
              "      <td>-1.816407</td>\n",
              "      <td>52.382141</td>\n",
              "      <td>-3.439720</td>\n",
              "      <td>46.639660</td>\n",
              "      <td>-2.231258</td>\n",
              "      <td>30.573025</td>\n",
              "      <td>blues</td>\n",
              "    </tr>\n",
              "    <tr>\n",
              "      <th>3</th>\n",
              "      <td>blues.00003.wav</td>\n",
              "      <td>661794</td>\n",
              "      <td>0.404785</td>\n",
              "      <td>0.093999</td>\n",
              "      <td>0.141093</td>\n",
              "      <td>0.006346</td>\n",
              "      <td>1070.106615</td>\n",
              "      <td>184355.942417</td>\n",
              "      <td>1596.412872</td>\n",
              "      <td>166441.494769</td>\n",
              "      <td>...</td>\n",
              "      <td>44.427753</td>\n",
              "      <td>-3.319597</td>\n",
              "      <td>50.206673</td>\n",
              "      <td>0.636965</td>\n",
              "      <td>37.319130</td>\n",
              "      <td>-0.619121</td>\n",
              "      <td>37.259739</td>\n",
              "      <td>-3.407448</td>\n",
              "      <td>31.949339</td>\n",
              "      <td>blues</td>\n",
              "    </tr>\n",
              "    <tr>\n",
              "      <th>4</th>\n",
              "      <td>blues.00004.wav</td>\n",
              "      <td>661794</td>\n",
              "      <td>0.308526</td>\n",
              "      <td>0.087841</td>\n",
              "      <td>0.091529</td>\n",
              "      <td>0.002303</td>\n",
              "      <td>1835.004266</td>\n",
              "      <td>343399.939274</td>\n",
              "      <td>1748.172116</td>\n",
              "      <td>88445.209036</td>\n",
              "      <td>...</td>\n",
              "      <td>86.099236</td>\n",
              "      <td>-5.454034</td>\n",
              "      <td>75.269707</td>\n",
              "      <td>-0.916874</td>\n",
              "      <td>53.613918</td>\n",
              "      <td>-4.404827</td>\n",
              "      <td>62.910812</td>\n",
              "      <td>-11.703234</td>\n",
              "      <td>55.195160</td>\n",
              "      <td>blues</td>\n",
              "    </tr>\n",
              "  </tbody>\n",
              "</table>\n",
              "<p>5 rows × 60 columns</p>\n",
              "</div>\n",
              "    <div class=\"colab-df-buttons\">\n",
              "\n",
              "  <div class=\"colab-df-container\">\n",
              "    <button class=\"colab-df-convert\" onclick=\"convertToInteractive('df-f0e27c15-d86f-4d45-accd-be7fe2dc31fc')\"\n",
              "            title=\"Convert this dataframe to an interactive table.\"\n",
              "            style=\"display:none;\">\n",
              "\n",
              "  <svg xmlns=\"http://www.w3.org/2000/svg\" height=\"24px\" viewBox=\"0 -960 960 960\">\n",
              "    <path d=\"M120-120v-720h720v720H120Zm60-500h600v-160H180v160Zm220 220h160v-160H400v160Zm0 220h160v-160H400v160ZM180-400h160v-160H180v160Zm440 0h160v-160H620v160ZM180-180h160v-160H180v160Zm440 0h160v-160H620v160Z\"/>\n",
              "  </svg>\n",
              "    </button>\n",
              "\n",
              "  <style>\n",
              "    .colab-df-container {\n",
              "      display:flex;\n",
              "      gap: 12px;\n",
              "    }\n",
              "\n",
              "    .colab-df-convert {\n",
              "      background-color: #E8F0FE;\n",
              "      border: none;\n",
              "      border-radius: 50%;\n",
              "      cursor: pointer;\n",
              "      display: none;\n",
              "      fill: #1967D2;\n",
              "      height: 32px;\n",
              "      padding: 0 0 0 0;\n",
              "      width: 32px;\n",
              "    }\n",
              "\n",
              "    .colab-df-convert:hover {\n",
              "      background-color: #E2EBFA;\n",
              "      box-shadow: 0px 1px 2px rgba(60, 64, 67, 0.3), 0px 1px 3px 1px rgba(60, 64, 67, 0.15);\n",
              "      fill: #174EA6;\n",
              "    }\n",
              "\n",
              "    .colab-df-buttons div {\n",
              "      margin-bottom: 4px;\n",
              "    }\n",
              "\n",
              "    [theme=dark] .colab-df-convert {\n",
              "      background-color: #3B4455;\n",
              "      fill: #D2E3FC;\n",
              "    }\n",
              "\n",
              "    [theme=dark] .colab-df-convert:hover {\n",
              "      background-color: #434B5C;\n",
              "      box-shadow: 0px 1px 3px 1px rgba(0, 0, 0, 0.15);\n",
              "      filter: drop-shadow(0px 1px 2px rgba(0, 0, 0, 0.3));\n",
              "      fill: #FFFFFF;\n",
              "    }\n",
              "  </style>\n",
              "\n",
              "    <script>\n",
              "      const buttonEl =\n",
              "        document.querySelector('#df-f0e27c15-d86f-4d45-accd-be7fe2dc31fc button.colab-df-convert');\n",
              "      buttonEl.style.display =\n",
              "        google.colab.kernel.accessAllowed ? 'block' : 'none';\n",
              "\n",
              "      async function convertToInteractive(key) {\n",
              "        const element = document.querySelector('#df-f0e27c15-d86f-4d45-accd-be7fe2dc31fc');\n",
              "        const dataTable =\n",
              "          await google.colab.kernel.invokeFunction('convertToInteractive',\n",
              "                                                    [key], {});\n",
              "        if (!dataTable) return;\n",
              "\n",
              "        const docLinkHtml = 'Like what you see? Visit the ' +\n",
              "          '<a target=\"_blank\" href=https://colab.research.google.com/notebooks/data_table.ipynb>data table notebook</a>'\n",
              "          + ' to learn more about interactive tables.';\n",
              "        element.innerHTML = '';\n",
              "        dataTable['output_type'] = 'display_data';\n",
              "        await google.colab.output.renderOutput(dataTable, element);\n",
              "        const docLink = document.createElement('div');\n",
              "        docLink.innerHTML = docLinkHtml;\n",
              "        element.appendChild(docLink);\n",
              "      }\n",
              "    </script>\n",
              "  </div>\n",
              "\n",
              "\n",
              "<div id=\"df-abdc47fc-b70f-4ba6-bfd7-2dab20cfe550\">\n",
              "  <button class=\"colab-df-quickchart\" onclick=\"quickchart('df-abdc47fc-b70f-4ba6-bfd7-2dab20cfe550')\"\n",
              "            title=\"Suggest charts.\"\n",
              "            style=\"display:none;\">\n",
              "\n",
              "<svg xmlns=\"http://www.w3.org/2000/svg\" height=\"24px\"viewBox=\"0 0 24 24\"\n",
              "     width=\"24px\">\n",
              "    <g>\n",
              "        <path d=\"M19 3H5c-1.1 0-2 .9-2 2v14c0 1.1.9 2 2 2h14c1.1 0 2-.9 2-2V5c0-1.1-.9-2-2-2zM9 17H7v-7h2v7zm4 0h-2V7h2v10zm4 0h-2v-4h2v4z\"/>\n",
              "    </g>\n",
              "</svg>\n",
              "  </button>\n",
              "\n",
              "<style>\n",
              "  .colab-df-quickchart {\n",
              "      --bg-color: #E8F0FE;\n",
              "      --fill-color: #1967D2;\n",
              "      --hover-bg-color: #E2EBFA;\n",
              "      --hover-fill-color: #174EA6;\n",
              "      --disabled-fill-color: #AAA;\n",
              "      --disabled-bg-color: #DDD;\n",
              "  }\n",
              "\n",
              "  [theme=dark] .colab-df-quickchart {\n",
              "      --bg-color: #3B4455;\n",
              "      --fill-color: #D2E3FC;\n",
              "      --hover-bg-color: #434B5C;\n",
              "      --hover-fill-color: #FFFFFF;\n",
              "      --disabled-bg-color: #3B4455;\n",
              "      --disabled-fill-color: #666;\n",
              "  }\n",
              "\n",
              "  .colab-df-quickchart {\n",
              "    background-color: var(--bg-color);\n",
              "    border: none;\n",
              "    border-radius: 50%;\n",
              "    cursor: pointer;\n",
              "    display: none;\n",
              "    fill: var(--fill-color);\n",
              "    height: 32px;\n",
              "    padding: 0;\n",
              "    width: 32px;\n",
              "  }\n",
              "\n",
              "  .colab-df-quickchart:hover {\n",
              "    background-color: var(--hover-bg-color);\n",
              "    box-shadow: 0 1px 2px rgba(60, 64, 67, 0.3), 0 1px 3px 1px rgba(60, 64, 67, 0.15);\n",
              "    fill: var(--button-hover-fill-color);\n",
              "  }\n",
              "\n",
              "  .colab-df-quickchart-complete:disabled,\n",
              "  .colab-df-quickchart-complete:disabled:hover {\n",
              "    background-color: var(--disabled-bg-color);\n",
              "    fill: var(--disabled-fill-color);\n",
              "    box-shadow: none;\n",
              "  }\n",
              "\n",
              "  .colab-df-spinner {\n",
              "    border: 2px solid var(--fill-color);\n",
              "    border-color: transparent;\n",
              "    border-bottom-color: var(--fill-color);\n",
              "    animation:\n",
              "      spin 1s steps(1) infinite;\n",
              "  }\n",
              "\n",
              "  @keyframes spin {\n",
              "    0% {\n",
              "      border-color: transparent;\n",
              "      border-bottom-color: var(--fill-color);\n",
              "      border-left-color: var(--fill-color);\n",
              "    }\n",
              "    20% {\n",
              "      border-color: transparent;\n",
              "      border-left-color: var(--fill-color);\n",
              "      border-top-color: var(--fill-color);\n",
              "    }\n",
              "    30% {\n",
              "      border-color: transparent;\n",
              "      border-left-color: var(--fill-color);\n",
              "      border-top-color: var(--fill-color);\n",
              "      border-right-color: var(--fill-color);\n",
              "    }\n",
              "    40% {\n",
              "      border-color: transparent;\n",
              "      border-right-color: var(--fill-color);\n",
              "      border-top-color: var(--fill-color);\n",
              "    }\n",
              "    60% {\n",
              "      border-color: transparent;\n",
              "      border-right-color: var(--fill-color);\n",
              "    }\n",
              "    80% {\n",
              "      border-color: transparent;\n",
              "      border-right-color: var(--fill-color);\n",
              "      border-bottom-color: var(--fill-color);\n",
              "    }\n",
              "    90% {\n",
              "      border-color: transparent;\n",
              "      border-bottom-color: var(--fill-color);\n",
              "    }\n",
              "  }\n",
              "</style>\n",
              "\n",
              "  <script>\n",
              "    async function quickchart(key) {\n",
              "      const quickchartButtonEl =\n",
              "        document.querySelector('#' + key + ' button');\n",
              "      quickchartButtonEl.disabled = true;  // To prevent multiple clicks.\n",
              "      quickchartButtonEl.classList.add('colab-df-spinner');\n",
              "      try {\n",
              "        const charts = await google.colab.kernel.invokeFunction(\n",
              "            'suggestCharts', [key], {});\n",
              "      } catch (error) {\n",
              "        console.error('Error during call to suggestCharts:', error);\n",
              "      }\n",
              "      quickchartButtonEl.classList.remove('colab-df-spinner');\n",
              "      quickchartButtonEl.classList.add('colab-df-quickchart-complete');\n",
              "    }\n",
              "    (() => {\n",
              "      let quickchartButtonEl =\n",
              "        document.querySelector('#df-abdc47fc-b70f-4ba6-bfd7-2dab20cfe550 button');\n",
              "      quickchartButtonEl.style.display =\n",
              "        google.colab.kernel.accessAllowed ? 'block' : 'none';\n",
              "    })();\n",
              "  </script>\n",
              "</div>\n",
              "    </div>\n",
              "  </div>\n"
            ]
          },
          "metadata": {},
          "execution_count": 3
        }
      ]
    },
    {
      "cell_type": "code",
      "source": [
        "def features_extractor(file):\n",
        "  audio, sample_rate = librosa.load(file_name, res_type='kaiser_fast')\n",
        "  mfccs_features = librosa.feature.mfcc(y=audio, sr=sample_rate, n_mfcc=40)\n",
        "  mfccs_scaled_features = np.mean(mfccs_features.T, axis=0)\n",
        "\n",
        "  return mfccs_scaled_features\n",
        "\n",
        "# from sklearn.preprocessing import StandardScaler\n",
        "\n",
        "# # ... (your existing code)\n",
        "\n",
        "# # Modify features_extractor function\n",
        "# def features_extractor(file):\n",
        "#     audio, sample_rate = librosa.load(file, res_type='kaiser_fast')\n",
        "#     mfccs_features = librosa.feature.mfcc(y=audio, sr=sample_rate, n_mfcc=40)\n",
        "#     mfccs_scaled_features = np.mean(mfccs_features.T, axis=0)\n",
        "#     return mfccs_scaled_features\n",
        "\n",
        "# # Normalize input features\n",
        "# scaler = StandardScaler()\n",
        "# X_train_scaled = scaler.fit_transform(X_train)\n",
        "# X_test_scaled = scaler.transform(X_test)\n"
      ],
      "metadata": {
        "id": "bdfWjbKqVNP-"
      },
      "execution_count": 4,
      "outputs": []
    },
    {
      "cell_type": "code",
      "source": [
        "# metadata.drop(labels=552, axis=0, inplace=True)"
      ],
      "metadata": {
        "id": "ee7BP1_5V9WT"
      },
      "execution_count": 66,
      "outputs": []
    },
    {
      "cell_type": "code",
      "source": [
        "from tqdm import tqdm\n",
        "\n",
        "extracted_features=[]\n",
        "for index_num, row in tqdm(metadata.iterrows()):\n",
        "  try:\n",
        "    final_class_labels=row['label']\n",
        "    file_name = os.path.join(os.path.abspath(audio_dataset_path), final_class_labels+'/',str(row['filename']))\n",
        "    data=features_extractor(file_name)\n",
        "    extracted_features.append([data, final_class_labels])\n",
        "  except Exception as e:\n",
        "    print(f\"Error: {e}\")\n",
        "    continue"
      ],
      "metadata": {
        "colab": {
          "base_uri": "https://localhost:8080/"
        },
        "id": "xUMyf6s_WI7B",
        "outputId": "3f8687a9-391b-47a9-a409-7cb6423a5512"
      },
      "execution_count": 5,
      "outputs": [
        {
          "output_type": "stream",
          "name": "stderr",
          "text": [
            "553it [00:45, 13.99it/s]<ipython-input-4-761b85e0e388>:2: UserWarning: PySoundFile failed. Trying audioread instead.\n",
            "  audio, sample_rate = librosa.load(file_name, res_type='kaiser_fast')\n",
            "/usr/local/lib/python3.10/dist-packages/librosa/core/audio.py:183: FutureWarning: librosa.core.audio.__audioread_load\n",
            "\tDeprecated as of librosa version 0.10.0.\n",
            "\tIt will be removed in librosa version 1.0.\n",
            "  y, sr_native = __audioread_load(path, offset, duration, dtype)\n",
            "557it [00:46, 11.77it/s]"
          ]
        },
        {
          "output_type": "stream",
          "name": "stdout",
          "text": [
            "Error: \n"
          ]
        },
        {
          "output_type": "stream",
          "name": "stderr",
          "text": [
            "1000it [01:23, 11.96it/s]\n"
          ]
        }
      ]
    },
    {
      "cell_type": "code",
      "source": [
        "extracted_features_df = pd.DataFrame(extracted_features, columns=['featues', 'class'])\n",
        "extracted_features_df.head()"
      ],
      "metadata": {
        "colab": {
          "base_uri": "https://localhost:8080/",
          "height": 206
        },
        "id": "IZpf70DXX0ro",
        "outputId": "d07f03a4-d366-4020-bd82-b1915ec67c75"
      },
      "execution_count": 6,
      "outputs": [
        {
          "output_type": "execute_result",
          "data": {
            "text/plain": [
              "                                             featues  class\n",
              "0  [-113.59882, 121.57067, -19.162262, 42.36394, ...  blues\n",
              "1  [-207.52383, 123.98514, 8.94702, 35.86715, 2.9...  blues\n",
              "2  [-90.757164, 140.44087, -29.084547, 31.686693,...  blues\n",
              "3  [-199.57513, 150.0861, 5.663404, 26.855282, 1....  blues\n",
              "4  [-160.35417, 126.20948, -35.581394, 22.139256,...  blues"
            ],
            "text/html": [
              "\n",
              "  <div id=\"df-a5ff05b1-ec83-44b3-a92f-2dfaec73abd6\" class=\"colab-df-container\">\n",
              "    <div>\n",
              "<style scoped>\n",
              "    .dataframe tbody tr th:only-of-type {\n",
              "        vertical-align: middle;\n",
              "    }\n",
              "\n",
              "    .dataframe tbody tr th {\n",
              "        vertical-align: top;\n",
              "    }\n",
              "\n",
              "    .dataframe thead th {\n",
              "        text-align: right;\n",
              "    }\n",
              "</style>\n",
              "<table border=\"1\" class=\"dataframe\">\n",
              "  <thead>\n",
              "    <tr style=\"text-align: right;\">\n",
              "      <th></th>\n",
              "      <th>featues</th>\n",
              "      <th>class</th>\n",
              "    </tr>\n",
              "  </thead>\n",
              "  <tbody>\n",
              "    <tr>\n",
              "      <th>0</th>\n",
              "      <td>[-113.59882, 121.57067, -19.162262, 42.36394, ...</td>\n",
              "      <td>blues</td>\n",
              "    </tr>\n",
              "    <tr>\n",
              "      <th>1</th>\n",
              "      <td>[-207.52383, 123.98514, 8.94702, 35.86715, 2.9...</td>\n",
              "      <td>blues</td>\n",
              "    </tr>\n",
              "    <tr>\n",
              "      <th>2</th>\n",
              "      <td>[-90.757164, 140.44087, -29.084547, 31.686693,...</td>\n",
              "      <td>blues</td>\n",
              "    </tr>\n",
              "    <tr>\n",
              "      <th>3</th>\n",
              "      <td>[-199.57513, 150.0861, 5.663404, 26.855282, 1....</td>\n",
              "      <td>blues</td>\n",
              "    </tr>\n",
              "    <tr>\n",
              "      <th>4</th>\n",
              "      <td>[-160.35417, 126.20948, -35.581394, 22.139256,...</td>\n",
              "      <td>blues</td>\n",
              "    </tr>\n",
              "  </tbody>\n",
              "</table>\n",
              "</div>\n",
              "    <div class=\"colab-df-buttons\">\n",
              "\n",
              "  <div class=\"colab-df-container\">\n",
              "    <button class=\"colab-df-convert\" onclick=\"convertToInteractive('df-a5ff05b1-ec83-44b3-a92f-2dfaec73abd6')\"\n",
              "            title=\"Convert this dataframe to an interactive table.\"\n",
              "            style=\"display:none;\">\n",
              "\n",
              "  <svg xmlns=\"http://www.w3.org/2000/svg\" height=\"24px\" viewBox=\"0 -960 960 960\">\n",
              "    <path d=\"M120-120v-720h720v720H120Zm60-500h600v-160H180v160Zm220 220h160v-160H400v160Zm0 220h160v-160H400v160ZM180-400h160v-160H180v160Zm440 0h160v-160H620v160ZM180-180h160v-160H180v160Zm440 0h160v-160H620v160Z\"/>\n",
              "  </svg>\n",
              "    </button>\n",
              "\n",
              "  <style>\n",
              "    .colab-df-container {\n",
              "      display:flex;\n",
              "      gap: 12px;\n",
              "    }\n",
              "\n",
              "    .colab-df-convert {\n",
              "      background-color: #E8F0FE;\n",
              "      border: none;\n",
              "      border-radius: 50%;\n",
              "      cursor: pointer;\n",
              "      display: none;\n",
              "      fill: #1967D2;\n",
              "      height: 32px;\n",
              "      padding: 0 0 0 0;\n",
              "      width: 32px;\n",
              "    }\n",
              "\n",
              "    .colab-df-convert:hover {\n",
              "      background-color: #E2EBFA;\n",
              "      box-shadow: 0px 1px 2px rgba(60, 64, 67, 0.3), 0px 1px 3px 1px rgba(60, 64, 67, 0.15);\n",
              "      fill: #174EA6;\n",
              "    }\n",
              "\n",
              "    .colab-df-buttons div {\n",
              "      margin-bottom: 4px;\n",
              "    }\n",
              "\n",
              "    [theme=dark] .colab-df-convert {\n",
              "      background-color: #3B4455;\n",
              "      fill: #D2E3FC;\n",
              "    }\n",
              "\n",
              "    [theme=dark] .colab-df-convert:hover {\n",
              "      background-color: #434B5C;\n",
              "      box-shadow: 0px 1px 3px 1px rgba(0, 0, 0, 0.15);\n",
              "      filter: drop-shadow(0px 1px 2px rgba(0, 0, 0, 0.3));\n",
              "      fill: #FFFFFF;\n",
              "    }\n",
              "  </style>\n",
              "\n",
              "    <script>\n",
              "      const buttonEl =\n",
              "        document.querySelector('#df-a5ff05b1-ec83-44b3-a92f-2dfaec73abd6 button.colab-df-convert');\n",
              "      buttonEl.style.display =\n",
              "        google.colab.kernel.accessAllowed ? 'block' : 'none';\n",
              "\n",
              "      async function convertToInteractive(key) {\n",
              "        const element = document.querySelector('#df-a5ff05b1-ec83-44b3-a92f-2dfaec73abd6');\n",
              "        const dataTable =\n",
              "          await google.colab.kernel.invokeFunction('convertToInteractive',\n",
              "                                                    [key], {});\n",
              "        if (!dataTable) return;\n",
              "\n",
              "        const docLinkHtml = 'Like what you see? Visit the ' +\n",
              "          '<a target=\"_blank\" href=https://colab.research.google.com/notebooks/data_table.ipynb>data table notebook</a>'\n",
              "          + ' to learn more about interactive tables.';\n",
              "        element.innerHTML = '';\n",
              "        dataTable['output_type'] = 'display_data';\n",
              "        await google.colab.output.renderOutput(dataTable, element);\n",
              "        const docLink = document.createElement('div');\n",
              "        docLink.innerHTML = docLinkHtml;\n",
              "        element.appendChild(docLink);\n",
              "      }\n",
              "    </script>\n",
              "  </div>\n",
              "\n",
              "\n",
              "<div id=\"df-59938597-f0c2-4280-847e-39b61988b772\">\n",
              "  <button class=\"colab-df-quickchart\" onclick=\"quickchart('df-59938597-f0c2-4280-847e-39b61988b772')\"\n",
              "            title=\"Suggest charts.\"\n",
              "            style=\"display:none;\">\n",
              "\n",
              "<svg xmlns=\"http://www.w3.org/2000/svg\" height=\"24px\"viewBox=\"0 0 24 24\"\n",
              "     width=\"24px\">\n",
              "    <g>\n",
              "        <path d=\"M19 3H5c-1.1 0-2 .9-2 2v14c0 1.1.9 2 2 2h14c1.1 0 2-.9 2-2V5c0-1.1-.9-2-2-2zM9 17H7v-7h2v7zm4 0h-2V7h2v10zm4 0h-2v-4h2v4z\"/>\n",
              "    </g>\n",
              "</svg>\n",
              "  </button>\n",
              "\n",
              "<style>\n",
              "  .colab-df-quickchart {\n",
              "      --bg-color: #E8F0FE;\n",
              "      --fill-color: #1967D2;\n",
              "      --hover-bg-color: #E2EBFA;\n",
              "      --hover-fill-color: #174EA6;\n",
              "      --disabled-fill-color: #AAA;\n",
              "      --disabled-bg-color: #DDD;\n",
              "  }\n",
              "\n",
              "  [theme=dark] .colab-df-quickchart {\n",
              "      --bg-color: #3B4455;\n",
              "      --fill-color: #D2E3FC;\n",
              "      --hover-bg-color: #434B5C;\n",
              "      --hover-fill-color: #FFFFFF;\n",
              "      --disabled-bg-color: #3B4455;\n",
              "      --disabled-fill-color: #666;\n",
              "  }\n",
              "\n",
              "  .colab-df-quickchart {\n",
              "    background-color: var(--bg-color);\n",
              "    border: none;\n",
              "    border-radius: 50%;\n",
              "    cursor: pointer;\n",
              "    display: none;\n",
              "    fill: var(--fill-color);\n",
              "    height: 32px;\n",
              "    padding: 0;\n",
              "    width: 32px;\n",
              "  }\n",
              "\n",
              "  .colab-df-quickchart:hover {\n",
              "    background-color: var(--hover-bg-color);\n",
              "    box-shadow: 0 1px 2px rgba(60, 64, 67, 0.3), 0 1px 3px 1px rgba(60, 64, 67, 0.15);\n",
              "    fill: var(--button-hover-fill-color);\n",
              "  }\n",
              "\n",
              "  .colab-df-quickchart-complete:disabled,\n",
              "  .colab-df-quickchart-complete:disabled:hover {\n",
              "    background-color: var(--disabled-bg-color);\n",
              "    fill: var(--disabled-fill-color);\n",
              "    box-shadow: none;\n",
              "  }\n",
              "\n",
              "  .colab-df-spinner {\n",
              "    border: 2px solid var(--fill-color);\n",
              "    border-color: transparent;\n",
              "    border-bottom-color: var(--fill-color);\n",
              "    animation:\n",
              "      spin 1s steps(1) infinite;\n",
              "  }\n",
              "\n",
              "  @keyframes spin {\n",
              "    0% {\n",
              "      border-color: transparent;\n",
              "      border-bottom-color: var(--fill-color);\n",
              "      border-left-color: var(--fill-color);\n",
              "    }\n",
              "    20% {\n",
              "      border-color: transparent;\n",
              "      border-left-color: var(--fill-color);\n",
              "      border-top-color: var(--fill-color);\n",
              "    }\n",
              "    30% {\n",
              "      border-color: transparent;\n",
              "      border-left-color: var(--fill-color);\n",
              "      border-top-color: var(--fill-color);\n",
              "      border-right-color: var(--fill-color);\n",
              "    }\n",
              "    40% {\n",
              "      border-color: transparent;\n",
              "      border-right-color: var(--fill-color);\n",
              "      border-top-color: var(--fill-color);\n",
              "    }\n",
              "    60% {\n",
              "      border-color: transparent;\n",
              "      border-right-color: var(--fill-color);\n",
              "    }\n",
              "    80% {\n",
              "      border-color: transparent;\n",
              "      border-right-color: var(--fill-color);\n",
              "      border-bottom-color: var(--fill-color);\n",
              "    }\n",
              "    90% {\n",
              "      border-color: transparent;\n",
              "      border-bottom-color: var(--fill-color);\n",
              "    }\n",
              "  }\n",
              "</style>\n",
              "\n",
              "  <script>\n",
              "    async function quickchart(key) {\n",
              "      const quickchartButtonEl =\n",
              "        document.querySelector('#' + key + ' button');\n",
              "      quickchartButtonEl.disabled = true;  // To prevent multiple clicks.\n",
              "      quickchartButtonEl.classList.add('colab-df-spinner');\n",
              "      try {\n",
              "        const charts = await google.colab.kernel.invokeFunction(\n",
              "            'suggestCharts', [key], {});\n",
              "      } catch (error) {\n",
              "        console.error('Error during call to suggestCharts:', error);\n",
              "      }\n",
              "      quickchartButtonEl.classList.remove('colab-df-spinner');\n",
              "      quickchartButtonEl.classList.add('colab-df-quickchart-complete');\n",
              "    }\n",
              "    (() => {\n",
              "      let quickchartButtonEl =\n",
              "        document.querySelector('#df-59938597-f0c2-4280-847e-39b61988b772 button');\n",
              "      quickchartButtonEl.style.display =\n",
              "        google.colab.kernel.accessAllowed ? 'block' : 'none';\n",
              "    })();\n",
              "  </script>\n",
              "</div>\n",
              "    </div>\n",
              "  </div>\n"
            ]
          },
          "metadata": {},
          "execution_count": 6
        }
      ]
    },
    {
      "cell_type": "code",
      "source": [
        "extracted_features_df['class'].value_counts()"
      ],
      "metadata": {
        "colab": {
          "base_uri": "https://localhost:8080/"
        },
        "id": "pdqIO81fYZkK",
        "outputId": "d9ffcc02-c52d-4623-a804-17a0188ff128"
      },
      "execution_count": 7,
      "outputs": [
        {
          "output_type": "execute_result",
          "data": {
            "text/plain": [
              "blues        100\n",
              "classical    100\n",
              "country      100\n",
              "disco        100\n",
              "hiphop       100\n",
              "metal        100\n",
              "pop          100\n",
              "reggae       100\n",
              "rock         100\n",
              "jazz          99\n",
              "Name: class, dtype: int64"
            ]
          },
          "metadata": {},
          "execution_count": 7
        }
      ]
    },
    {
      "cell_type": "code",
      "source": [
        "X = np.array(extracted_features_df['featues'].tolist())\n",
        "y = np.array(extracted_features_df['class'].tolist())"
      ],
      "metadata": {
        "id": "SlMSTpYnYgU4"
      },
      "execution_count": 8,
      "outputs": []
    },
    {
      "cell_type": "code",
      "source": [
        "X.shape, y.shape"
      ],
      "metadata": {
        "colab": {
          "base_uri": "https://localhost:8080/"
        },
        "id": "OsLvRAerY5a0",
        "outputId": "ecadf65d-1865-46b7-e22a-93e0322b66b1"
      },
      "execution_count": 9,
      "outputs": [
        {
          "output_type": "execute_result",
          "data": {
            "text/plain": [
              "((999, 40), (999,))"
            ]
          },
          "metadata": {},
          "execution_count": 9
        }
      ]
    },
    {
      "cell_type": "code",
      "source": [
        "from tensorflow.keras.utils import to_categorical\n",
        "from sklearn.preprocessing import LabelEncoder\n",
        "\n",
        "labelencoder = LabelEncoder()\n",
        "y = to_categorical(labelencoder.fit_transform(y))"
      ],
      "metadata": {
        "id": "cn02WKfnY7OU"
      },
      "execution_count": 10,
      "outputs": []
    },
    {
      "cell_type": "code",
      "source": [
        "y.shape"
      ],
      "metadata": {
        "colab": {
          "base_uri": "https://localhost:8080/"
        },
        "id": "dv2InstOZYBW",
        "outputId": "6a45a852-1a9a-4283-cf6c-81504d5aec8e"
      },
      "execution_count": 11,
      "outputs": [
        {
          "output_type": "execute_result",
          "data": {
            "text/plain": [
              "(999, 10)"
            ]
          },
          "metadata": {},
          "execution_count": 11
        }
      ]
    },
    {
      "cell_type": "code",
      "source": [
        "from sklearn.model_selection import train_test_split\n",
        "X_train, X_test, y_train, y_test = train_test_split(X,y,test_size=0.2,random_state=0)"
      ],
      "metadata": {
        "id": "kqTrehfNZZvW"
      },
      "execution_count": 12,
      "outputs": []
    },
    {
      "cell_type": "code",
      "source": [
        "print(X_train.shape)\n",
        "print(X_test.shape)\n",
        "print(y_train.shape)\n",
        "print(y_test.shape)"
      ],
      "metadata": {
        "colab": {
          "base_uri": "https://localhost:8080/"
        },
        "id": "6gsI0w7qZqcW",
        "outputId": "25abe3f7-4279-44e8-ec9b-f8f1d2ca6721"
      },
      "execution_count": 13,
      "outputs": [
        {
          "output_type": "stream",
          "name": "stdout",
          "text": [
            "(799, 40)\n",
            "(200, 40)\n",
            "(799, 10)\n",
            "(200, 10)\n"
          ]
        }
      ]
    },
    {
      "cell_type": "code",
      "source": [
        "from tensorflow.keras.models import Sequential\n",
        "from tensorflow.keras.layers import Dense, Dropout, Activation, Flatten\n",
        "from tensorflow. keras.optimizers import Adam\n",
        "from sklearn import metrics"
      ],
      "metadata": {
        "id": "MXQRMo6qZ1sh"
      },
      "execution_count": 14,
      "outputs": []
    },
    {
      "cell_type": "code",
      "source": [
        "num_labels = y.shape[1]"
      ],
      "metadata": {
        "id": "iNLsmIDqZ7NY"
      },
      "execution_count": 15,
      "outputs": []
    },
    {
      "cell_type": "code",
      "source": [
        "model=Sequential()\n",
        "model.add(Dense (1024, input_shape=(40,), activation=\"relu\"))\n",
        "model.add(Dropout(0.3))\n",
        "model.add(Dense(512, activation=\"relu\"))\n",
        "model.add(Dropout (0.3))\n",
        "model.add(Dense (256, activation=\"relu\"))\n",
        "model.add(Dropout(0.3))\n",
        "model.add(Dense (128, activation=\"relu\"))\n",
        "model.add(Dropout(0.3))\n",
        "model.add(Dense (64, activation=\"relu\"))\n",
        "model.add(Dropout(0.3))\n",
        "model.add(Dense (32, activation=\"relu\"))\n",
        "model.add(Dropout(0.3))\n",
        "\n",
        "###final layer\n",
        "model.add (Dense(num_labels, activation=\"softmax\"))\n",
        "\n",
        "# from tensorflow.keras.layers import Conv1D, MaxPooling1D, GlobalAveragePooling1D\n",
        "\n",
        "\n",
        "# model = Sequential()\n",
        "# model.add(Conv1D(32, kernel_size=3, activation='relu', input_shape=(X_train.shape[1], 1)))\n",
        "# model.add(MaxPooling1D(pool_size=2))\n",
        "# model.add(Conv1D(64, kernel_size=3, activation='relu'))\n",
        "# model.add(MaxPooling1D(pool_size=2))\n",
        "# model.add(GlobalAveragePooling1D())\n",
        "# model.add(Dense(num_labels, activation='softmax'))"
      ],
      "metadata": {
        "id": "NHc_Wrr4aCUw"
      },
      "execution_count": 16,
      "outputs": []
    },
    {
      "cell_type": "code",
      "source": [
        "model.summary()"
      ],
      "metadata": {
        "colab": {
          "base_uri": "https://localhost:8080/"
        },
        "id": "-zyJBXzdaM-T",
        "outputId": "cb213886-4803-4327-af50-8fa33ddf89ce"
      },
      "execution_count": 17,
      "outputs": [
        {
          "output_type": "stream",
          "name": "stdout",
          "text": [
            "Model: \"sequential\"\n",
            "_________________________________________________________________\n",
            " Layer (type)                Output Shape              Param #   \n",
            "=================================================================\n",
            " dense (Dense)               (None, 1024)              41984     \n",
            "                                                                 \n",
            " dropout (Dropout)           (None, 1024)              0         \n",
            "                                                                 \n",
            " dense_1 (Dense)             (None, 512)               524800    \n",
            "                                                                 \n",
            " dropout_1 (Dropout)         (None, 512)               0         \n",
            "                                                                 \n",
            " dense_2 (Dense)             (None, 256)               131328    \n",
            "                                                                 \n",
            " dropout_2 (Dropout)         (None, 256)               0         \n",
            "                                                                 \n",
            " dense_3 (Dense)             (None, 128)               32896     \n",
            "                                                                 \n",
            " dropout_3 (Dropout)         (None, 128)               0         \n",
            "                                                                 \n",
            " dense_4 (Dense)             (None, 64)                8256      \n",
            "                                                                 \n",
            " dropout_4 (Dropout)         (None, 64)                0         \n",
            "                                                                 \n",
            " dense_5 (Dense)             (None, 32)                2080      \n",
            "                                                                 \n",
            " dropout_5 (Dropout)         (None, 32)                0         \n",
            "                                                                 \n",
            " dense_6 (Dense)             (None, 10)                330       \n",
            "                                                                 \n",
            "=================================================================\n",
            "Total params: 741674 (2.83 MB)\n",
            "Trainable params: 741674 (2.83 MB)\n",
            "Non-trainable params: 0 (0.00 Byte)\n",
            "_________________________________________________________________\n"
          ]
        }
      ]
    },
    {
      "cell_type": "code",
      "source": [
        "model.compile(loss='categorical_crossentropy', metrics=['accuracy'], optimizer='adam')"
      ],
      "metadata": {
        "id": "nN5_fYOzaU3Q"
      },
      "execution_count": 18,
      "outputs": []
    },
    {
      "cell_type": "code",
      "source": [
        "import time\n",
        "t = time.localtime()\n",
        "current_time = time.strftime(\"%H:%M:%S\", t)"
      ],
      "metadata": {
        "id": "mI_XY5mWavvw"
      },
      "execution_count": 19,
      "outputs": []
    },
    {
      "cell_type": "code",
      "source": [
        "## Trianing my model\n",
        "from tensorflow.keras.callbacks import ModelCheckpoint, EarlyStopping\n",
        "from datetime import datetime\n",
        "\n",
        "num_epochs = 200\n",
        "num_batch_size = 32\n",
        "\n",
        "checkpointer = ModelCheckpoint(filepath=f' saved_models/audio_classification_{current_time} .hdf5',\n",
        "                                verbose=1, save_best_only=True)\n",
        "early_stopping = EarlyStopping(monitor='val_loss', patience=10, restore_best_weights=True)\n",
        "\n",
        "\n",
        "start = datetime.now()\n",
        "history = model.fit(X_train, y_train, batch_size=num_batch_size, epochs=num_epochs,\n",
        "                    validation_data=(X_test, y_test), callbacks=[checkpointer, early_stopping])\n",
        "\n",
        "duration = datetime.now() - start\n",
        "print(\"Training completed in time: \", duration)"
      ],
      "metadata": {
        "colab": {
          "base_uri": "https://localhost:8080/"
        },
        "id": "bbNDKIraa-Kf",
        "outputId": "03bf6e92-f97c-4cab-9bcb-b87779b900ec"
      },
      "execution_count": 36,
      "outputs": [
        {
          "output_type": "stream",
          "name": "stdout",
          "text": [
            "Epoch 1/200\n",
            "20/25 [=======================>......] - ETA: 0s - loss: 0.1502 - accuracy: 0.9578\n",
            "Epoch 1: val_loss improved from inf to 3.56917, saving model to  saved_models/audio_classification_16:45:02 .hdf5\n",
            "25/25 [==============================] - 0s 14ms/step - loss: 0.1496 - accuracy: 0.9549 - val_loss: 3.5692 - val_accuracy: 0.6550\n",
            "Epoch 2/200\n",
            "21/25 [========================>.....] - ETA: 0s - loss: 0.2054 - accuracy: 0.9628"
          ]
        },
        {
          "output_type": "stream",
          "name": "stderr",
          "text": [
            "/usr/local/lib/python3.10/dist-packages/keras/src/engine/training.py:3079: UserWarning: You are saving your model as an HDF5 file via `model.save()`. This file format is considered legacy. We recommend using instead the native Keras format, e.g. `model.save('my_model.keras')`.\n",
            "  saving_api.save_model(\n"
          ]
        },
        {
          "output_type": "stream",
          "name": "stdout",
          "text": [
            "\n",
            "Epoch 2: val_loss did not improve from 3.56917\n",
            "25/25 [==============================] - 0s 7ms/step - loss: 0.2316 - accuracy: 0.9549 - val_loss: 3.7645 - val_accuracy: 0.6250\n",
            "Epoch 3/200\n",
            "18/25 [====================>.........] - ETA: 0s - loss: 0.2549 - accuracy: 0.9392\n",
            "Epoch 3: val_loss improved from 3.56917 to 3.52571, saving model to  saved_models/audio_classification_16:45:02 .hdf5\n",
            "25/25 [==============================] - 0s 11ms/step - loss: 0.2310 - accuracy: 0.9462 - val_loss: 3.5257 - val_accuracy: 0.6400\n",
            "Epoch 4/200\n",
            "19/25 [=====================>........] - ETA: 0s - loss: 0.1949 - accuracy: 0.9556\n",
            "Epoch 4: val_loss did not improve from 3.52571\n",
            "25/25 [==============================] - 0s 8ms/step - loss: 0.1665 - accuracy: 0.9612 - val_loss: 3.8705 - val_accuracy: 0.6700\n",
            "Epoch 5/200\n",
            "21/25 [========================>.....] - ETA: 0s - loss: 0.2136 - accuracy: 0.9554\n",
            "Epoch 5: val_loss improved from 3.52571 to 3.10572, saving model to  saved_models/audio_classification_16:45:02 .hdf5\n",
            "25/25 [==============================] - 0s 10ms/step - loss: 0.1886 - accuracy: 0.9612 - val_loss: 3.1057 - val_accuracy: 0.6650\n",
            "Epoch 6/200\n",
            "20/25 [=======================>......] - ETA: 0s - loss: 0.1353 - accuracy: 0.9641\n",
            "Epoch 6: val_loss did not improve from 3.10572\n",
            "25/25 [==============================] - 0s 7ms/step - loss: 0.1231 - accuracy: 0.9662 - val_loss: 3.4825 - val_accuracy: 0.6600\n",
            "Epoch 7/200\n",
            "21/25 [========================>.....] - ETA: 0s - loss: 0.1734 - accuracy: 0.9717\n",
            "Epoch 7: val_loss did not improve from 3.10572\n",
            "25/25 [==============================] - 0s 8ms/step - loss: 0.1672 - accuracy: 0.9675 - val_loss: 3.5524 - val_accuracy: 0.6400\n",
            "Epoch 8/200\n",
            "21/25 [========================>.....] - ETA: 0s - loss: 0.1619 - accuracy: 0.9583\n",
            "Epoch 8: val_loss did not improve from 3.10572\n",
            "25/25 [==============================] - 0s 8ms/step - loss: 0.1725 - accuracy: 0.9612 - val_loss: 3.3638 - val_accuracy: 0.6450\n",
            "Epoch 9/200\n",
            "21/25 [========================>.....] - ETA: 0s - loss: 0.1246 - accuracy: 0.9702\n",
            "Epoch 9: val_loss did not improve from 3.10572\n",
            "25/25 [==============================] - 0s 7ms/step - loss: 0.1459 - accuracy: 0.9675 - val_loss: 3.5498 - val_accuracy: 0.6500\n",
            "Epoch 10/200\n",
            "19/25 [=====================>........] - ETA: 0s - loss: 0.1329 - accuracy: 0.9622\n",
            "Epoch 10: val_loss did not improve from 3.10572\n",
            "25/25 [==============================] - 0s 7ms/step - loss: 0.1386 - accuracy: 0.9599 - val_loss: 3.3575 - val_accuracy: 0.6650\n",
            "Epoch 11/200\n",
            "19/25 [=====================>........] - ETA: 0s - loss: 0.0908 - accuracy: 0.9786\n",
            "Epoch 11: val_loss did not improve from 3.10572\n",
            "25/25 [==============================] - 0s 8ms/step - loss: 0.0979 - accuracy: 0.9762 - val_loss: 3.6791 - val_accuracy: 0.6600\n",
            "Epoch 12/200\n",
            "20/25 [=======================>......] - ETA: 0s - loss: 0.1250 - accuracy: 0.9703\n",
            "Epoch 12: val_loss did not improve from 3.10572\n",
            "25/25 [==============================] - 0s 8ms/step - loss: 0.1461 - accuracy: 0.9700 - val_loss: 3.6256 - val_accuracy: 0.6800\n",
            "Epoch 13/200\n",
            "18/25 [====================>.........] - ETA: 0s - loss: 0.1581 - accuracy: 0.9583\n",
            "Epoch 13: val_loss did not improve from 3.10572\n",
            "25/25 [==============================] - 0s 8ms/step - loss: 0.1739 - accuracy: 0.9574 - val_loss: 3.5450 - val_accuracy: 0.6300\n",
            "Epoch 14/200\n",
            "21/25 [========================>.....] - ETA: 0s - loss: 0.1864 - accuracy: 0.9568\n",
            "Epoch 14: val_loss improved from 3.10572 to 2.98332, saving model to  saved_models/audio_classification_16:45:02 .hdf5\n",
            "25/25 [==============================] - 0s 10ms/step - loss: 0.1736 - accuracy: 0.9599 - val_loss: 2.9833 - val_accuracy: 0.6650\n",
            "Epoch 15/200\n",
            "19/25 [=====================>........] - ETA: 0s - loss: 0.1320 - accuracy: 0.9622\n",
            "Epoch 15: val_loss did not improve from 2.98332\n",
            "25/25 [==============================] - 0s 8ms/step - loss: 0.1372 - accuracy: 0.9662 - val_loss: 3.8459 - val_accuracy: 0.6600\n",
            "Epoch 16/200\n",
            "19/25 [=====================>........] - ETA: 0s - loss: 0.0630 - accuracy: 0.9819\n",
            "Epoch 16: val_loss did not improve from 2.98332\n",
            "25/25 [==============================] - 0s 8ms/step - loss: 0.0804 - accuracy: 0.9800 - val_loss: 3.9158 - val_accuracy: 0.6600\n",
            "Epoch 17/200\n",
            "21/25 [========================>.....] - ETA: 0s - loss: 0.0746 - accuracy: 0.9821\n",
            "Epoch 17: val_loss did not improve from 2.98332\n",
            "25/25 [==============================] - 0s 7ms/step - loss: 0.0947 - accuracy: 0.9800 - val_loss: 4.1096 - val_accuracy: 0.6250\n",
            "Epoch 18/200\n",
            "22/25 [=========================>....] - ETA: 0s - loss: 0.2472 - accuracy: 0.9574\n",
            "Epoch 18: val_loss did not improve from 2.98332\n",
            "25/25 [==============================] - 0s 8ms/step - loss: 0.3142 - accuracy: 0.9487 - val_loss: 3.4985 - val_accuracy: 0.6600\n",
            "Epoch 19/200\n",
            "20/25 [=======================>......] - ETA: 0s - loss: 0.2359 - accuracy: 0.9344\n",
            "Epoch 19: val_loss improved from 2.98332 to 2.89770, saving model to  saved_models/audio_classification_16:45:02 .hdf5\n",
            "25/25 [==============================] - 0s 12ms/step - loss: 0.2369 - accuracy: 0.9349 - val_loss: 2.8977 - val_accuracy: 0.6600\n",
            "Epoch 20/200\n",
            "21/25 [========================>.....] - ETA: 0s - loss: 0.2065 - accuracy: 0.9449\n",
            "Epoch 20: val_loss did not improve from 2.89770\n",
            "25/25 [==============================] - 0s 9ms/step - loss: 0.1876 - accuracy: 0.9512 - val_loss: 3.1946 - val_accuracy: 0.6800\n",
            "Epoch 21/200\n",
            "19/25 [=====================>........] - ETA: 0s - loss: 0.1641 - accuracy: 0.9622\n",
            "Epoch 21: val_loss did not improve from 2.89770\n",
            "25/25 [==============================] - 0s 8ms/step - loss: 0.1461 - accuracy: 0.9650 - val_loss: 3.5755 - val_accuracy: 0.6650\n",
            "Epoch 22/200\n",
            "18/25 [====================>.........] - ETA: 0s - loss: 0.1087 - accuracy: 0.9774\n",
            "Epoch 22: val_loss did not improve from 2.89770\n",
            "25/25 [==============================] - 0s 8ms/step - loss: 0.1046 - accuracy: 0.9775 - val_loss: 3.4680 - val_accuracy: 0.6650\n",
            "Epoch 23/200\n",
            "19/25 [=====================>........] - ETA: 0s - loss: 0.2117 - accuracy: 0.9572\n",
            "Epoch 23: val_loss did not improve from 2.89770\n",
            "25/25 [==============================] - 0s 8ms/step - loss: 0.1889 - accuracy: 0.9587 - val_loss: 3.6549 - val_accuracy: 0.6550\n",
            "Epoch 24/200\n",
            "20/25 [=======================>......] - ETA: 0s - loss: 0.1315 - accuracy: 0.9641\n",
            "Epoch 24: val_loss did not improve from 2.89770\n",
            "25/25 [==============================] - 0s 7ms/step - loss: 0.1268 - accuracy: 0.9637 - val_loss: 3.4525 - val_accuracy: 0.6500\n",
            "Epoch 25/200\n",
            "19/25 [=====================>........] - ETA: 0s - loss: 0.0887 - accuracy: 0.9803\n",
            "Epoch 25: val_loss did not improve from 2.89770\n",
            "25/25 [==============================] - 0s 8ms/step - loss: 0.1055 - accuracy: 0.9787 - val_loss: 3.7695 - val_accuracy: 0.6500\n",
            "Epoch 26/200\n",
            "20/25 [=======================>......] - ETA: 0s - loss: 0.0691 - accuracy: 0.9844\n",
            "Epoch 26: val_loss did not improve from 2.89770\n",
            "25/25 [==============================] - 0s 8ms/step - loss: 0.0678 - accuracy: 0.9825 - val_loss: 3.9118 - val_accuracy: 0.6500\n",
            "Epoch 27/200\n",
            "19/25 [=====================>........] - ETA: 0s - loss: 0.0928 - accuracy: 0.9770\n",
            "Epoch 27: val_loss did not improve from 2.89770\n",
            "25/25 [==============================] - 0s 8ms/step - loss: 0.0990 - accuracy: 0.9750 - val_loss: 3.5071 - val_accuracy: 0.6600\n",
            "Epoch 28/200\n",
            "22/25 [=========================>....] - ETA: 0s - loss: 0.0705 - accuracy: 0.9787\n",
            "Epoch 28: val_loss did not improve from 2.89770\n",
            "25/25 [==============================] - 0s 7ms/step - loss: 0.0679 - accuracy: 0.9800 - val_loss: 4.2543 - val_accuracy: 0.6350\n",
            "Epoch 29/200\n",
            "22/25 [=========================>....] - ETA: 0s - loss: 0.0593 - accuracy: 0.9815\n",
            "Epoch 29: val_loss did not improve from 2.89770\n",
            "25/25 [==============================] - 0s 7ms/step - loss: 0.0650 - accuracy: 0.9800 - val_loss: 4.3774 - val_accuracy: 0.6600\n",
            "Training completed in time:  0:00:06.345986\n"
          ]
        }
      ]
    },
    {
      "cell_type": "code",
      "source": [
        "from tensorflow.keras.models import load_model\n",
        "\n",
        "# Load the saved model\n",
        "loaded_model = load_model('/content/Data/Data/ saved_models/audio_classification_16:45:02 .hdf5')\n",
        "print(\"Model loaded successfully.\")\n",
        "\n",
        "# Evaluate the loaded model on test data\n",
        "loaded_model.evaluate(X_test, y_test, verbose=0)"
      ],
      "metadata": {
        "colab": {
          "base_uri": "https://localhost:8080/"
        },
        "id": "xR30b7kXisfK",
        "outputId": "2fdec809-55a7-455f-eba9-21d7f4766369"
      },
      "execution_count": 42,
      "outputs": [
        {
          "output_type": "stream",
          "name": "stdout",
          "text": [
            "Model loaded successfully.\n"
          ]
        },
        {
          "output_type": "execute_result",
          "data": {
            "text/plain": [
              "[2.8976950645446777, 0.6600000262260437]"
            ]
          },
          "metadata": {},
          "execution_count": 42
        }
      ]
    },
    {
      "cell_type": "code",
      "source": [
        "# model.evaluate(X_test, y_test, verbose=0)"
      ],
      "metadata": {
        "colab": {
          "base_uri": "https://localhost:8080/"
        },
        "id": "C5qPbf-PimUZ",
        "outputId": "1f8eabc0-f5d0-4c36-de3c-a68f2d6fd5e2"
      },
      "execution_count": 37,
      "outputs": [
        {
          "output_type": "execute_result",
          "data": {
            "text/plain": [
              "[2.8976950645446777, 0.6600000262260437]"
            ]
          },
          "metadata": {},
          "execution_count": 37
        }
      ]
    },
    {
      "cell_type": "code",
      "source": [
        "pd.DataFrame(history.history).plot(figsize=(12,6))\n",
        "plt.show()"
      ],
      "metadata": {
        "id": "_knZf5TEbpRR"
      },
      "execution_count": null,
      "outputs": []
    },
    {
      "cell_type": "code",
      "source": [
        "predicted_probabilities = loaded_model.predict(X_test)\n",
        "predicted_classes = np.argmax(predicted_probabilities, axis=1)"
      ],
      "metadata": {
        "colab": {
          "base_uri": "https://localhost:8080/"
        },
        "id": "g0Hlbo0Xb0E-",
        "outputId": "90b01926-2b0c-43c0-d593-f5bbac529da8"
      },
      "execution_count": 43,
      "outputs": [
        {
          "output_type": "stream",
          "name": "stdout",
          "text": [
            "7/7 [==============================] - 0s 6ms/step\n"
          ]
        }
      ]
    },
    {
      "cell_type": "code",
      "source": [
        "predicted_classes"
      ],
      "metadata": {
        "colab": {
          "base_uri": "https://localhost:8080/"
        },
        "id": "BsjCm5B7d6dK",
        "outputId": "c7060e84-ab1a-4843-a9de-9d6a75d414bd"
      },
      "execution_count": 44,
      "outputs": [
        {
          "output_type": "execute_result",
          "data": {
            "text/plain": [
              "array([7, 0, 0, 6, 9, 5, 3, 3, 0, 2, 6, 2, 4, 8, 9, 9, 4, 3, 3, 9, 9, 4,\n",
              "       5, 9, 1, 3, 0, 4, 3, 3, 6, 9, 7, 4, 7, 7, 0, 8, 5, 4, 9, 5, 6, 0,\n",
              "       2, 4, 7, 9, 3, 8, 3, 3, 4, 1, 8, 4, 4, 2, 8, 5, 8, 6, 5, 2, 7, 8,\n",
              "       5, 8, 2, 4, 5, 8, 1, 7, 9, 4, 6, 4, 6, 2, 6, 4, 6, 5, 9, 9, 5, 4,\n",
              "       2, 7, 9, 8, 8, 5, 2, 6, 9, 4, 5, 0, 1, 5, 6, 6, 7, 5, 1, 0, 5, 5,\n",
              "       2, 1, 8, 4, 9, 0, 7, 8, 2, 5, 0, 3, 8, 6, 3, 2, 0, 4, 6, 9, 7, 8,\n",
              "       3, 3, 4, 9, 8, 1, 7, 2, 8, 3, 4, 9, 4, 0, 0, 1, 0, 5, 3, 9, 7, 8,\n",
              "       8, 8, 8, 3, 9, 4, 1, 5, 1, 5, 7, 9, 8, 7, 1, 0, 2, 8, 4, 3, 4, 1,\n",
              "       7, 4, 5, 3, 2, 3, 3, 3, 3, 5, 9, 3, 8, 0, 4, 6, 7, 8, 6, 1, 2, 8,\n",
              "       3, 8])"
            ]
          },
          "metadata": {},
          "execution_count": 44
        }
      ]
    },
    {
      "cell_type": "code",
      "source": [
        "filename=\"/content/Data/Data/genres_original/rock/rock.00000.wav\"\n",
        "audio, sample_rate= librosa.load(filename, res_type=' kaiser_fast')\n",
        "mfccs_features = librosa.feature.mfcc(y=audio, sr=sample_rate, n_mfcc=40)\n",
        "mfccs_scaled_features = np. mean (mfccs_features.T, axis=0)\n",
        "\n",
        "print(mfccs_scaled_features)\n",
        "mfccs_scaled_features=mfccs_scaled_features.reshape(1, -1)\n",
        "print(mfccs_scaled_features)\n",
        "print(mfccs_scaled_features.shape)\n",
        "\n",
        "predicted_probabilities = model.predict(mfccs_scaled_features)\n",
        "predicted_classes = np.argmax(predicted_probabilities, axis=1)\n",
        "print(predicted_classes)\n",
        "prediction_class = labelencoder.inverse_transform(predicted_classes)\n",
        "prediction_class"
      ],
      "metadata": {
        "colab": {
          "base_uri": "https://localhost:8080/"
        },
        "id": "FM9PJHFucJtY",
        "outputId": "de663507-4685-4b0b-e1af-a14b070a67c6"
      },
      "execution_count": 46,
      "outputs": [
        {
          "output_type": "stream",
          "name": "stdout",
          "text": [
            "[-1.16626266e+02  1.09252632e+02 -2.31637516e+01  4.06794815e+01\n",
            " -1.18888369e+01  2.31529446e+01 -1.54092770e+01  1.51249895e+01\n",
            " -1.35225782e+01  1.26958866e+01 -1.08715563e+01  8.49799061e+00\n",
            " -1.15775967e+01  2.19769740e+00 -6.18050623e+00  1.98997986e+00\n",
            " -7.95588875e+00  2.08338356e+00 -2.39291382e+00 -1.54179323e+00\n",
            " -2.62624383e+00 -4.30706561e-01 -3.03475261e+00 -8.14875305e-01\n",
            "  1.09406956e-01 -2.70748091e+00 -1.16246223e+00 -6.56219339e+00\n",
            "  8.08540881e-01 -5.98537397e+00 -6.39179766e-01  1.83361018e+00\n",
            " -1.91109502e+00 -2.85637426e+00 -2.22769475e+00 -7.77185336e-02\n",
            " -3.61104631e+00 -1.35419798e+00  2.51583785e-01 -2.90771270e+00]\n",
            "[[-1.16626266e+02  1.09252632e+02 -2.31637516e+01  4.06794815e+01\n",
            "  -1.18888369e+01  2.31529446e+01 -1.54092770e+01  1.51249895e+01\n",
            "  -1.35225782e+01  1.26958866e+01 -1.08715563e+01  8.49799061e+00\n",
            "  -1.15775967e+01  2.19769740e+00 -6.18050623e+00  1.98997986e+00\n",
            "  -7.95588875e+00  2.08338356e+00 -2.39291382e+00 -1.54179323e+00\n",
            "  -2.62624383e+00 -4.30706561e-01 -3.03475261e+00 -8.14875305e-01\n",
            "   1.09406956e-01 -2.70748091e+00 -1.16246223e+00 -6.56219339e+00\n",
            "   8.08540881e-01 -5.98537397e+00 -6.39179766e-01  1.83361018e+00\n",
            "  -1.91109502e+00 -2.85637426e+00 -2.22769475e+00 -7.77185336e-02\n",
            "  -3.61104631e+00 -1.35419798e+00  2.51583785e-01 -2.90771270e+00]]\n",
            "(1, 40)\n",
            "1/1 [==============================] - 0s 42ms/step\n",
            "[9]\n"
          ]
        },
        {
          "output_type": "execute_result",
          "data": {
            "text/plain": [
              "array(['rock'], dtype='<U9')"
            ]
          },
          "metadata": {},
          "execution_count": 46
        }
      ]
    },
    {
      "cell_type": "code",
      "source": [],
      "metadata": {
        "id": "r6Ot0SXac6Ml"
      },
      "execution_count": null,
      "outputs": []
    }
  ]
}